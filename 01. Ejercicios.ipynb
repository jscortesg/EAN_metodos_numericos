{
 "cells": [
  {
   "cell_type": "markdown",
   "id": "cc94244b",
   "metadata": {},
   "source": [
    "# Ejercicio 1:\n",
    "\n",
    "El número de Euler $e$ está definido como \n",
    "\n",
    "\\begin{equation}\n",
    "e = \\sum_{i=0}^{\\infty}\\frac{1}{n!}.\n",
    "\\end{equation}\n",
    "\n",
    "Use el método de chopping hasta 4 cifras decimales para computar las siguientes aproximaciones y su error relativo:\n",
    "\n",
    "a) $e\\approx \\sum_{n=0}^{10}\\frac{1}{n!}$\n",
    "\n",
    "b) $e\\approx \\sum_{n=0}^{10}\\frac{1}{(10-n)!}$"
   ]
  },
  {
   "cell_type": "markdown",
   "id": "e663eef2",
   "metadata": {},
   "source": [
    "# Ejercicio 2:\n",
    "\n",
    "Calcule los errores absoluto y relativo de los siguientes valores:\n",
    "\n",
    "a) $p = e^{10}$, $p^{*} = 22000$\n",
    "b) $p = 8!$, $p^{*} = 39900$"
   ]
  },
  {
   "cell_type": "markdown",
   "id": "1d756b04",
   "metadata": {},
   "source": [
    "# Ejercicio 3:\n",
    "\n",
    "Use *chopping* y redondeo a 3 cifras **significativas** para calcular las siguientes operaciones:\n",
    "\n",
    "a) $\\frac{4}{5}*\\frac{1}{3}$\n",
    "\n",
    "b) $\\left(\\frac{1}{3} - \\frac{3}{11}\\right) + \\frac{3}{20}$"
   ]
  },
  {
   "cell_type": "code",
   "execution_count": null,
   "id": "3396ffa9",
   "metadata": {},
   "outputs": [],
   "source": []
  }
 ],
 "metadata": {
  "kernelspec": {
   "display_name": "Python 3 (ipykernel)",
   "language": "python",
   "name": "python3"
  },
  "language_info": {
   "codemirror_mode": {
    "name": "ipython",
    "version": 3
   },
   "file_extension": ".py",
   "mimetype": "text/x-python",
   "name": "python",
   "nbconvert_exporter": "python",
   "pygments_lexer": "ipython3",
   "version": "3.10.9"
  }
 },
 "nbformat": 4,
 "nbformat_minor": 5
}
