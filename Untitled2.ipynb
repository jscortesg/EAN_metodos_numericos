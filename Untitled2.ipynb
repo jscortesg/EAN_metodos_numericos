{
 "cells": [
  {
   "cell_type": "code",
   "execution_count": 8,
   "id": "1d9dfe01",
   "metadata": {},
   "outputs": [
    {
     "name": "stderr",
     "output_type": "stream",
     "text": [
      "UsageError: Line magic function `%matplotlib notebook` not found.\n"
     ]
    }
   ],
   "source": [
    "import matplotlib.pyplot as plt\n",
    "import numpy as np\n",
    "\n",
    "%matplotlib notebook"
   ]
  },
  {
   "cell_type": "code",
   "execution_count": 3,
   "id": "fe135f04",
   "metadata": {},
   "outputs": [],
   "source": [
    "##EJERCICIO 1 CLASE\n",
    "x0 = 0\n",
    "xf = 3\n",
    "\n",
    "N1 = 10\n",
    "\n",
    "hs1 = (xf-x0)/(N1-1)\n",
    "\n",
    "intt1 = np.linspace(x0, xf, N1)\n",
    "\n",
    "w = 8*intt1 -16\n",
    "\n",
    "Deltax_t = round(0.5*hs1*(sum(w[0:N1-1]) + sum(w[1:N1-1])),2)"
   ]
  },
  {
   "cell_type": "code",
   "execution_count": 4,
   "id": "8a8ceb74",
   "metadata": {},
   "outputs": [
    {
     "name": "stdout",
     "output_type": "stream",
     "text": [
      "-13.33\n"
     ]
    }
   ],
   "source": [
    "print(Deltax_t)"
   ]
  },
  {
   "cell_type": "code",
   "execution_count": 5,
   "id": "04c72ac7",
   "metadata": {},
   "outputs": [],
   "source": [
    "##EJERCICIO 2 CLASE\n",
    "x0 = 0\n",
    "xf = 2\n",
    "\n",
    "N1 = 10\n",
    "\n",
    "hs1 = (xf-x0)/(N1-1)\n",
    "\n",
    "intt2 = np.linspace(x0, xf, N1)\n",
    "\n",
    "w = -(8*intt2 -16)\n",
    "\n",
    "Deltax_2 = round(0.5*hs1*(sum(w[0:N1-1]) + sum(w[1:N1-1])),2)"
   ]
  },
  {
   "cell_type": "code",
   "execution_count": 6,
   "id": "a3366e72",
   "metadata": {},
   "outputs": [
    {
     "name": "stdout",
     "output_type": "stream",
     "text": [
      "16.0\n"
     ]
    }
   ],
   "source": [
    "print(Deltax_2)"
   ]
  },
  {
   "cell_type": "code",
   "execution_count": null,
   "id": "99e983a2",
   "metadata": {},
   "outputs": [],
   "source": []
  }
 ],
 "metadata": {
  "kernelspec": {
   "display_name": "Python 3 (ipykernel)",
   "language": "python",
   "name": "python3"
  },
  "language_info": {
   "codemirror_mode": {
    "name": "ipython",
    "version": 3
   },
   "file_extension": ".py",
   "mimetype": "text/x-python",
   "name": "python",
   "nbconvert_exporter": "python",
   "pygments_lexer": "ipython3",
   "version": "3.11.5"
  }
 },
 "nbformat": 4,
 "nbformat_minor": 5
}
