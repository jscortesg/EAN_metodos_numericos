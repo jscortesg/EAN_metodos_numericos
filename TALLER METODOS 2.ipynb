{
 "cells": [
  {
   "cell_type": "code",
   "execution_count": 22,
   "id": "23100349",
   "metadata": {},
   "outputs": [],
   "source": [
    "#SANTIAGO RODRRIGUEZ\n",
    "#GISETH VALENTINA ESCALANTE\n",
    "#VALENTINA SANDOVAL\n",
    "#LAURA VARGAS"
   ]
  },
  {
   "cell_type": "code",
   "execution_count": null,
   "id": "faa99582",
   "metadata": {},
   "outputs": [],
   "source": [
    "import numpy as np\n",
    "import matplotlib.pyplot as plt"
   ]
  },
  {
   "cell_type": "code",
   "execution_count": 20,
   "id": "c4eb45f0",
   "metadata": {},
   "outputs": [
    {
     "name": "stdout",
     "output_type": "stream",
     "text": [
      "El trabajo realizado por la fuerza es: -11.999999999999993 Julios\n"
     ]
    }
   ],
   "source": [
    "def F(x):\n",
    "    return 8 * x - 16\n",
    "\n",
    "\n",
    "def integral_trapecio(f, a, b, n):\n",
    "    h = (b - a) / n\n",
    "    suma = 0.5 * (f(a) + f(b))  # Primer y último término\n",
    "\n",
    "    for i in range(1, n):\n",
    "        suma += f(a + i * h)\n",
    "\n",
    "    return h * suma\n",
    "\n",
    "\n",
    "x_0 = 0\n",
    "x_f = 3\n",
    "\n",
    "\n",
    "num_intervalos = 1000  \n",
    "\n",
    "\n",
    "resultado_integral = integral_trapecio(F, x_0, x_f, num_intervalos)\n",
    "print(\"El trabajo realizado por la fuerza es:\", resultado_integral, \"Julios\")"
   ]
  },
  {
   "cell_type": "code",
   "execution_count": 21,
   "id": "3a2a2057",
   "metadata": {},
   "outputs": [],
   "source": [
    "def force(x):\n",
    "    return 8*x - 16"
   ]
  },
  {
   "cell_type": "code",
   "execution_count": 13,
   "id": "75160e5d",
   "metadata": {},
   "outputs": [],
   "source": [
    "def integrate_trapezoidal2(func, a, b, n):\n",
    "    x_values = np.linspace(a, b, n+1)\n",
    "    y_values = func(x_values)\n",
    "    h = (b - a) / n\n",
    "    integral = h * (0.5*y_values[0] + sum(y_values[1:-1]) + 0.5*y_values[-1])\n",
    "    return integral\n",
    "a, b = 0, 2\n",
    "n_points = 100\n",
    "x_values = np.linspace(a, b, n_points)\n",
    "u_values = [1] "
   ]
  },
  {
   "cell_type": "code",
   "execution_count": 14,
   "id": "ff35ff55",
   "metadata": {},
   "outputs": [],
   "source": [
    "for i in range(1, n_points):\n",
    "    integral = integrate_trapezoidal2(force, a, x_values[i], n_points)\n",
    "    u_values.append(u_values[-1] + integral)"
   ]
  },
  {
   "cell_type": "code",
   "execution_count": 15,
   "id": "cd1ccbda",
   "metadata": {},
   "outputs": [
    {
     "data": {
      "image/png": "[encoded data removed]",
      "text/plain": [
       "<Figure size 432x288 with 1 Axes>"
      ]
     },
     "metadata": {
      "needs_background": "light"
     },
     "output_type": "display_data"
    }
   ],
   "source": [
    "plt.plot(x_values, u_values, label='U(x)')\n",
    "plt.xlabel('x')\n",
    "plt.ylabel('U(x)')\n",
    "plt.title('Energía Potencial U(x) - Regla del Trapecio')\n",
    "plt.legend()\n",
    "plt.grid(True)\n",
    "plt.show()"
   ]
  },
  {
   "cell_type": "code",
   "execution_count": null,
   "id": "5683f087",
   "metadata": {},
   "outputs": [],
   "source": []
  }
 ],
 "metadata": {
  "kernelspec": {
   "display_name": "Python 3 (ipykernel)",
   "language": "python",
   "name": "python3"
  },
  "language_info": {
   "codemirror_mode": {
    "name": "ipython",
    "version": 3
   },
   "file_extension": ".py",
   "mimetype": "text/x-python",
   "name": "python",
   "nbconvert_exporter": "python",
   "pygments_lexer": "ipython3",
   "version": "3.9.12"
  }
 },
 "nbformat": 4,
 "nbformat_minor": 5
}
