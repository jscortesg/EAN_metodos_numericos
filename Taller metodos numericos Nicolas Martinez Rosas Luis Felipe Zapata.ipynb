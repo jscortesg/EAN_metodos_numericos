{
  "nbformat": 4,
  "nbformat_minor": 0,
  "metadata": {
    "colab": {
      "provenance": []
    },
    "kernelspec": {
      "name": "python3",
      "display_name": "Python 3"
    },
    "language_info": {
      "name": "python"
    }
  },
  "cells": [
    {
      "cell_type": "markdown",
      "source": [
        "# Taller metodos numericos"
      ],
      "metadata": {
        "id": "MHBSK8V6nKan"
      }
    },
    {
      "cell_type": "code",
      "source": [
        "import matplotlib.pyplot as plt\n",
        "import numpy as np\n",
        "\n",
        "%matplotlib notebook"
      ],
      "metadata": {
        "id": "3EPpfhFOtYq8"
      },
      "execution_count": null,
      "outputs": []
    },
    {
      "cell_type": "code",
      "source": [
        "a = 0\n",
        "b = 3\n",
        "N = 20\n",
        "h = (b-a)/N-1\n",
        "x = np.linspace(a, b, N)\n",
        "f = 8*x - 16\n",
        "I_riemannL = h * sum(f[:N-1])\n",
        "err_riemannL = 0.396 - I_riemannL\n",
        "\n",
        "I_riemannR = h * sum(f[1::])\n",
        "err_riemannR = 0.396 - I_riemannR\n",
        "\n",
        "print(\"Integral Riemann izquierda = \", I_riemannL)\n",
        "print(\"Error integral Riemann izquierda = \",err_riemannL)\n",
        "\n",
        "print(\"Integral Riemann derecha = \", I_riemannR)\n",
        "print(\"Error integral Riemman derecha = \", err_riemannR)"
      ],
      "metadata": {
        "colab": {
          "base_uri": "https://localhost:8080/"
        },
        "id": "rMukgysUBPnC",
        "outputId": "3b421455-5aa5-4fd1-e93c-c74364d8b5f6"
      },
      "execution_count": 12,
      "outputs": [
        {
          "output_type": "stream",
          "name": "stdout",
          "text": [
            "Integral Riemann izquierda =  74.8\n",
            "Error integral Riemann izquierda =  -74.404\n",
            "Integral Riemann derecha =  54.4\n",
            "Error integral Riemman derecha =  -54.004\n"
          ]
        }
      ]
    },
    {
      "cell_type": "code",
      "source": [
        "plt.rcParams[\"figure.figsize\"] = [7.50, 3.50]\n",
        "plt.rcParams[\"figure.autolayout\"] = True\n",
        "\n",
        "x = np.linspace(0, 2, N)\n",
        "y1 = np.sin(x)\n",
        "y2 = np.cos(x)\n",
        "plt.fill_between(x, y1, step=\"pre\", alpha=0.4)\n",
        "plt.fill_between(x, y2, step=\"pre\", alpha=0.4)\n",
        "\n",
        "plt.plot(x, y1, drawstyle=\"steps\")\n",
        "plt.plot(x, y2, drawstyle=\"steps\")\n",
        "\n",
        "plt.show()"
      ],
      "metadata": {
        "colab": {
          "base_uri": "https://localhost:8080/",
          "height": 357
        },
        "id": "XhtvHJUOFRza",
        "outputId": "2121f43f-accb-47e0-b2ab-4aacd757d3cf"
      },
      "execution_count": 16,
      "outputs": [
        {
          "output_type": "display_data",
          "data": {
            "text/plain": [
              "<Figure size 750x350 with 1 Axes>"
            ],
            "image/png": "[encoded data removed]"
          },
          "metadata": {}
        }
      ]
    }
  ]
}